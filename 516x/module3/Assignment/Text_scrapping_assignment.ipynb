{
 "cells": [
  {
   "cell_type": "markdown",
   "metadata": {},
   "source": [
    "# Text Scrapping Assignment\n",
    "Precipitation is a major driver for non-point source pollutants runoff, and the impact of precipitation may vary annually, seasonally, or even monthly. For example, soil is more prone to erosion during planting seasons (March-May) when land cover is minimal. Consequently, a similar precipitation events (intensity and duration) may result in greater soil erosion during planting season as compared to the late-growing season. <br>\n",
    "\n",
    "Therefore, it is important to understand the precipitation pattern when evaluating the fate and transport of non-point source pollutants. The objectives of this task are: <br>\n",
    "1) To gather historical precipitation data through an open API <br>\n",
    "2) Calculate 30-year average annual precipitation depth <br>\n",
    "3) Calculate annual precipitation depth for the monitoring years (2016-2018) <br>\n",
    "4) Compare annual precipitation depth to the 30-year average, then determine if it is a dry, normal, or wet year <br>\n",
    "5) Calculate 30-year average monthly precipitation depth <br>\n",
    "6) Calculate monthly precipitation depth, then determine if it is a dry, normal, or wet month <br>\n",
    "\n",
    "In the future development, this data will be paired with nutrient concentration and loading data to identify any possible correlations."
   ]
  },
  {
   "cell_type": "code",
   "execution_count": 1,
   "metadata": {},
   "outputs": [],
   "source": [
    "import bs4\n",
    "import requests\n",
    "from datetime import datetime\n",
    "#import datetime as dt\n",
    "import pandas as pd\n",
    "import numpy as np\n",
    "import json"
   ]
  },
  {
   "cell_type": "code",
   "execution_count": 98,
   "metadata": {},
   "outputs": [],
   "source": [
    "start = str('2014-01-01')\n",
    "#input('Enter start date as YYYY-MM-DD') \n",
    "#remove the line below if the input parameter can read string date\n",
    "#start_date = datetime.strptime(start, '%Y-%m-%d') #convert string date to datetime format \n",
    "\n",
    "end = str('2014-12-31')\n",
    "#input('Enter end date as YYYY-MM-DD: ')\n",
    "#end_date = datetime.strptime(end, '%Y-%m-%d')\n"
   ]
  },
  {
   "cell_type": "code",
   "execution_count": 99,
   "metadata": {},
   "outputs": [],
   "source": [
    "datasetid = 'GHCND'  # request for Daily Summaries\n",
    "locationid = 'CITY:US190003'"
   ]
  },
  {
   "cell_type": "code",
   "execution_count": 120,
   "metadata": {},
   "outputs": [
    {
     "name": "stdout",
     "output_type": "stream",
     "text": [
      "<?xml version=\"1.0\" encoding=\"UTF-8\" standalone=\"yes\"?><response><statusCode>400</statusCode><userMessage>Data requests require exactly one datasetid.</userMessage><developerMessage>Data requests require exactly one datasetid.</developerMessage></response>\n"
     ]
    }
   ],
   "source": [
    "url = 'https://www.ncdc.noaa.gov/cdo-web/api/v2/data?datasetid=GHCND'\n",
    "mytoken = 'sqCnqEQCgLdMHXjNnREBCSAvVXchewzf'\n",
    "params = 'datasetid='+str(datasetid)+'&'+'locationid='+str(locationid)+'&'+'startdate='+str(start)+'&'+'enddate='+str(end)+'&'+'units=metric'+'&'+'limit=1000'\n",
    "response = requests.get(url, params = params, headers={'token': mytoken})\n",
    "\n",
    "print(response.text) # Print the output"
   ]
  },
  {
   "cell_type": "code",
   "execution_count": 112,
   "metadata": {},
   "outputs": [
    {
     "name": "stdout",
     "output_type": "stream",
     "text": [
      "<class 'requests.models.Response'>\n"
     ]
    }
   ],
   "source": [
    "print(type(response))"
   ]
  },
  {
   "cell_type": "code",
   "execution_count": 113,
   "metadata": {},
   "outputs": [],
   "source": [
    "df = pd.DataFrame.from_dict(response.json()['results'])"
   ]
  },
  {
   "cell_type": "code",
   "execution_count": 114,
   "metadata": {},
   "outputs": [
    {
     "name": "stdout",
     "output_type": "stream",
     "text": [
      "   datacoverage       id     maxdate     mindate                         name  \\\n",
      "0          1.00    GHCND  2019-09-21  1763-01-01              Daily Summaries   \n",
      "1          1.00     GSOM  2019-08-01  1763-01-01  Global Summary of the Month   \n",
      "2          1.00     GSOY  2019-01-01  1763-01-01   Global Summary of the Year   \n",
      "3          0.95  NEXRAD2  2019-09-21  1991-06-05     Weather Radar (Level II)   \n",
      "4          0.95  NEXRAD3  2019-09-21  1994-05-20    Weather Radar (Level III)   \n",
      "\n",
      "                    uid  \n",
      "0  gov.noaa.ncdc:C00861  \n",
      "1  gov.noaa.ncdc:C00946  \n",
      "2  gov.noaa.ncdc:C00947  \n",
      "3  gov.noaa.ncdc:C00345  \n",
      "4  gov.noaa.ncdc:C00708  \n"
     ]
    }
   ],
   "source": [
    "print(df)"
   ]
  },
  {
   "cell_type": "code",
   "execution_count": null,
   "metadata": {},
   "outputs": [],
   "source": []
  },
  {
   "cell_type": "code",
   "execution_count": null,
   "metadata": {},
   "outputs": [],
   "source": []
  }
 ],
 "metadata": {
  "kernelspec": {
   "display_name": "Python 3",
   "language": "python",
   "name": "python3"
  },
  "language_info": {
   "codemirror_mode": {
    "name": "ipython",
    "version": 3
   },
   "file_extension": ".py",
   "mimetype": "text/x-python",
   "name": "python",
   "nbconvert_exporter": "python",
   "pygments_lexer": "ipython3",
   "version": "3.7.3"
  }
 },
 "nbformat": 4,
 "nbformat_minor": 2
}
